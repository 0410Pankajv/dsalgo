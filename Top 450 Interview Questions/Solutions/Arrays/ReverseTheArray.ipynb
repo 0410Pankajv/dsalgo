{
 "cells": [
  {
   "cell_type": "code",
   "execution_count": null,
   "metadata": {},
   "outputs": [],
   "source": [
    "#code\n",
    "# Link to question - https://practice.geeksforgeeks.org/problems/reverse-the-string/0\n",
    "def reverse(li):\n",
    "    for ele in li:\n",
    "        print(ele[::-1])\n",
    "        \n",
    "numbers = int(input())\n",
    "li = []\n",
    "for i in range(numbers):\n",
    "    ele = input()\n",
    "    li.append(ele)\n",
    "reverse(li)"
   ]
  }
 ],
 "metadata": {
  "kernelspec": {
   "display_name": "Python 3",
   "language": "python",
   "name": "python3"
  }
 },
 "nbformat": 4,
 "nbformat_minor": 4
}
