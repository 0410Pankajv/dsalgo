{
 "cells": [
  {
   "cell_type": "code",
   "execution_count": null,
   "metadata": {},
   "outputs": [],
   "source": [
    "#code\n",
    "#Question link - https://www.geeksforgeeks.org/move-negative-numbers-beginning-positive-end-constant-extra-space/\n",
    "def NegetiveBeforePositive(li):\n",
    "    i = 0\n",
    "    j = len(li)-1\n",
    "    \n",
    "    while i<j:\n",
    "        if li[i]<0:\n",
    "            i+=1\n",
    "        elif li[j]>0:\n",
    "            j-=1\n",
    "        if li[i]>0 and li[j]<0:\n",
    "            li[i], li[j] = li[j], li[i]\n",
    "    return li\n",
    "    \n",
    "li = [-12, 11, -13, -5, 6, -7, 5, -3, -6]\n",
    "ans = NegetiveBeforePositive(li)\n",
    "for ele in ans:\n",
    "    print(ele, end=' ')"
   ]
  }
 ],
 "metadata": {
  "kernelspec": {
   "display_name": "Python 3",
   "language": "python",
   "name": "python3"
  },
  "language_info": {
   "codemirror_mode": {
    "name": "ipython",
    "version": 3
   },
   "file_extension": ".py",
   "mimetype": "text/x-python",
   "name": "python",
   "nbconvert_exporter": "python",
   "pygments_lexer": "ipython3",
   "version": "3.8.3"
  }
 },
 "nbformat": 4,
 "nbformat_minor": 4
}
