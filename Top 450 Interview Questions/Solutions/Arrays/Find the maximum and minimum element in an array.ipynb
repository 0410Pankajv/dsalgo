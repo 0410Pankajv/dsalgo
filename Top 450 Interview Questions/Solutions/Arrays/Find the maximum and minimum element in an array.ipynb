{
 "cells": [
  {
   "cell_type": "code",
   "execution_count": null,
   "metadata": {},
   "outputs": [],
   "source": [
    "#Question link - https://practice.geeksforgeeks.org/problems/middle-of-three2926/1\n",
    "def middle(self,A,B,C):\n",
    "        if A<B:\n",
    "            return B if B<C else max(A,C)\n",
    "        return A if A<C else max(B,C)"
   ]
  }
 ],
 "metadata": {
  "kernelspec": {
   "display_name": "Python 3",
   "language": "python",
   "name": "python3"
  },
  "language_info": {
   "codemirror_mode": {
    "name": "ipython",
    "version": 3
   },
   "file_extension": ".py",
   "mimetype": "text/x-python",
   "name": "python",
   "nbconvert_exporter": "python",
   "pygments_lexer": "ipython3",
   "version": "3.8.3"
  }
 },
 "nbformat": 4,
 "nbformat_minor": 4
}
