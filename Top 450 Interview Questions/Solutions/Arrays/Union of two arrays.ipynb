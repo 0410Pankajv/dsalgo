{
 "cells": [
  {
   "cell_type": "code",
   "execution_count": null,
   "metadata": {},
   "outputs": [],
   "source": [
    "#code\n",
    "#Question link - https://practice.geeksforgeeks.org/problems/union-of-two-arrays/0\n",
    "def UnionOf2Arrays(li1, li2):\n",
    "    d1 = {}\n",
    "    d2 = {}\n",
    "    for ele in li1:\n",
    "        d1[ele] = d1.get(ele, 0) + 1\n",
    "    for ele in li2:\n",
    "        d2[ele] = d2.get(ele, 0) + 1\n",
    "    length = len(d1)\n",
    "    for ele in d2:\n",
    "        if ele not in d1:\n",
    "            length += 1\n",
    "    return length\n",
    "    \n",
    "    \n",
    "num_of_test_cases = int(input())\n",
    "for i in range(num_of_test_cases):\n",
    "    a, b = input().split()\n",
    "    li1 = [int(ele) for ele in input().split()]\n",
    "    li2 = [int(ele) for ele in input().split()]\n",
    "    print(UnionOf2Arrays(li1, li2))"
   ]
  }
 ],
 "metadata": {
  "kernelspec": {
   "display_name": "Python 3",
   "language": "python",
   "name": "python3"
  },
  "language_info": {
   "codemirror_mode": {
    "name": "ipython",
    "version": 3
   },
   "file_extension": ".py",
   "mimetype": "text/x-python",
   "name": "python",
   "nbconvert_exporter": "python",
   "pygments_lexer": "ipython3",
   "version": "3.8.3"
  }
 },
 "nbformat": 4,
 "nbformat_minor": 4
}
