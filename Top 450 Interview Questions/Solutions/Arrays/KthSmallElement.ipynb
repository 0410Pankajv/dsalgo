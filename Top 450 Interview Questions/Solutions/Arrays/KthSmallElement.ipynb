{
 "cells": [
  {
   "cell_type": "code",
   "execution_count": null,
   "metadata": {},
   "outputs": [],
   "source": [
    "#code\n",
    "#Question link - https://practice.geeksforgeeks.org/problems/kth-smallest-element/0\n",
    "def kSmallestElement(li, k):\n",
    "    li.sort()\n",
    "    for i in range(len(li)-k):\n",
    "        li.pop()\n",
    "    if li[-1]:\n",
    "        return li[-1]\n",
    "    else:\n",
    "        return None\n",
    "    \n",
    "num_of_test_cases = int(input())\n",
    "for i in range(num_of_test_cases):\n",
    "    n = int(input())\n",
    "    li = [int(ele) for ele in input().split()]\n",
    "    k = int(input())\n",
    "    print(kSmallestElement(li, k))"
   ]
  }
 ],
 "metadata": {
  "kernelspec": {
   "display_name": "Python 3",
   "language": "python",
   "name": "python3"
  },
  "language_info": {
   "codemirror_mode": {
    "name": "ipython",
    "version": 3
   },
   "file_extension": ".py",
   "mimetype": "text/x-python",
   "name": "python",
   "nbconvert_exporter": "python",
   "pygments_lexer": "ipython3",
   "version": "3.8.3"
  }
 },
 "nbformat": 4,
 "nbformat_minor": 4
}
