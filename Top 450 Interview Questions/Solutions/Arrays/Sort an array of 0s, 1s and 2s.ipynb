{
 "cells": [
  {
   "cell_type": "code",
   "execution_count": null,
   "metadata": {},
   "outputs": [],
   "source": [
    "#code\n",
    "#Question link - https://practice.geeksforgeeks.org/problems/sort-an-array-of-0s-1s-and-2s/0\n",
    "def Sort012(li):\n",
    "    li.sort()\n",
    "    return li\n",
    "\n",
    "num_of_test_case = int(input())\n",
    "for i in range(num_of_test_case):\n",
    "    n = int(input())\n",
    "    li = [int(ele) for ele in input().split()]\n",
    "    ans = Sort012(li)\n",
    "    for ele in ans:\n",
    "        print(ele, end=\" \")\n",
    "    print()"
   ]
  }
 ],
 "metadata": {
  "kernelspec": {
   "display_name": "Python 3",
   "language": "python",
   "name": "python3"
  },
  "language_info": {
   "codemirror_mode": {
    "name": "ipython",
    "version": 3
   },
   "file_extension": ".py",
   "mimetype": "text/x-python",
   "name": "python",
   "nbconvert_exporter": "python",
   "pygments_lexer": "ipython3",
   "version": "3.8.3"
  }
 },
 "nbformat": 4,
 "nbformat_minor": 4
}
