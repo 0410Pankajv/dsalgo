{
 "cells": [
  {
   "cell_type": "code",
   "execution_count": null,
   "metadata": {},
   "outputs": [],
   "source": [
    "#code\n",
    "#Question link - https://practice.geeksforgeeks.org/problems/kadanes-algorithm/0\n",
    "def Cont_Sub_Array(li):\n",
    "    curr_max = li[0]\n",
    "    global_max = li[0]\n",
    "    for curr in li[1::]:\n",
    "        curr_max = curr_max + curr\n",
    "        if curr>curr_max:\n",
    "            curr_max = curr\n",
    "        if curr_max >= global_max:\n",
    "            global_max = curr_max\n",
    "    return global_max\n",
    "    \n",
    "    \n",
    "total_test_cases = int(input())\n",
    "for i in range(total_test_cases):\n",
    "    no_of_inputs = int(input())\n",
    "    li = [int(ele) for ele in input().split()]\n",
    "    print(Cont_Sub_Array(li))"
   ]
  }
 ],
 "metadata": {
  "kernelspec": {
   "display_name": "Python 3",
   "language": "python",
   "name": "python3"
  },
  "language_info": {
   "codemirror_mode": {
    "name": "ipython",
    "version": 3
   },
   "file_extension": ".py",
   "mimetype": "text/x-python",
   "name": "python",
   "nbconvert_exporter": "python",
   "pygments_lexer": "ipython3",
   "version": "3.8.3"
  }
 },
 "nbformat": 4,
 "nbformat_minor": 4
}
