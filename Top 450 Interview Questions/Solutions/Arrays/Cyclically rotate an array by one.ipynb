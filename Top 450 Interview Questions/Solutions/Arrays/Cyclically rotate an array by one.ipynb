{
 "cells": [
  {
   "cell_type": "code",
   "execution_count": null,
   "metadata": {},
   "outputs": [],
   "source": [
    "#code\n",
    "#Question link - https://practice.geeksforgeeks.org/problems/cyclically-rotate-an-array-by-one/0\n",
    "def rotate(li):\n",
    "    temp = li[-1]\n",
    "    for i in range(len(li)-1,-1,-1):\n",
    "        li[i] = li[i-1]\n",
    "    li[0] = temp\n",
    "    return li\n",
    "    \n",
    "num_of_tests = int(input())\n",
    "for i in range(num_of_tests):\n",
    "    n = int(input())\n",
    "    li = [int(ele) for ele in input().split()]\n",
    "    ans = rotate(li)\n",
    "    for ele in ans:\n",
    "        print(ele, end=' ')\n",
    "    print()"
   ]
  }
 ],
 "metadata": {
  "kernelspec": {
   "display_name": "Python 3",
   "language": "python",
   "name": "python3"
  },
  "language_info": {
   "codemirror_mode": {
    "name": "ipython",
    "version": 3
   },
   "file_extension": ".py",
   "mimetype": "text/x-python",
   "name": "python",
   "nbconvert_exporter": "python",
   "pygments_lexer": "ipython3",
   "version": "3.8.3"
  }
 },
 "nbformat": 4,
 "nbformat_minor": 4
}
