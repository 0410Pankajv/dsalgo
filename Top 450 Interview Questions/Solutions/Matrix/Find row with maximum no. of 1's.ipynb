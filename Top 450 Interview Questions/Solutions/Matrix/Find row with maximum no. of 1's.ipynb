{
 "cells": [
  {
   "cell_type": "code",
   "execution_count": null,
   "metadata": {},
   "outputs": [],
   "source": [
    "#User function Template for python3\n",
    "#Question link - https://practice.geeksforgeeks.org/problems/row-with-max-1s0023/1\n",
    "class Solution:\n",
    "\n",
    "\tdef rowWithMax1s(self,arr, n, m):\n",
    "\t    if not arr:\n",
    "\t        return -1\n",
    "\t    counter = 0\n",
    "\t    max_counter = 0\n",
    "\t    index = 0\n",
    "\t    for i in range(n):\n",
    "\t        for j in range(m-1, -1, -1):\n",
    "\t            if arr[i][j] == 1:\n",
    "\t                counter += 1\n",
    "\t            else:\n",
    "\t                continue\n",
    "\t        if max_counter<counter:\n",
    "\t            max_counter = counter\n",
    "\t            index = i\n",
    "\t        counter = 0\n",
    "\t    if max_counter == 0:\n",
    "\t        return -1\n",
    "\t    return index\n",
    "\t\t# code here\n",
    "\n",
    "\n",
    "\n",
    "#{ \n",
    "#  Driver Code Starts\n",
    "#Initial Template for Python 3\n",
    "\n",
    "if __name__ == '__main__':\n",
    "    tc = int(input())\n",
    "    while tc > 0:\n",
    "        n, m = list(map(int, input().strip().split()))\n",
    "        \n",
    "        inputLine = list(map(int, input().strip().split()))\n",
    "        arr = [[0 for j in range(m)] for i in range(n)]\n",
    "        \n",
    "        for i in range(n):\n",
    "            for j in range(m):\n",
    "                arr[i][j] = inputLine[i * m + j]\n",
    "        ob = Solution()\n",
    "        ans = ob.rowWithMax1s(arr, n, m)\n",
    "        print(ans)\n",
    "        tc -= 1\n",
    "\n",
    "# } Driver Code Ends"
   ]
  }
 ],
 "metadata": {
  "kernelspec": {
   "display_name": "Python 3",
   "language": "python",
   "name": "python3"
  },
  "language_info": {
   "codemirror_mode": {
    "name": "ipython",
    "version": 3
   },
   "file_extension": ".py",
   "mimetype": "text/x-python",
   "name": "python",
   "nbconvert_exporter": "python",
   "pygments_lexer": "ipython3",
   "version": "3.8.3"
  }
 },
 "nbformat": 4,
 "nbformat_minor": 4
}
