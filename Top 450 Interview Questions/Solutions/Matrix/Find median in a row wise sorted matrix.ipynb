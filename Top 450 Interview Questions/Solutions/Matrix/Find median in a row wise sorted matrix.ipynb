{
 "cells": [
  {
   "cell_type": "code",
   "execution_count": null,
   "metadata": {},
   "outputs": [],
   "source": [
    "#Question link - https://practice.geeksforgeeks.org/problems/median-in-a-row-wise-sorted-matrix1527/0\n",
    "class Solution:\n",
    "    def median(self, matrix, r, c):\n",
    "        arr = []\n",
    "        if not matrix:\n",
    "            return\n",
    "        for i in range(r):\n",
    "            for j in range(c):\n",
    "                arr.append(matrix[i][j])\n",
    "        arr.sort()\n",
    "        mid = len(arr)//2\n",
    "        return arr[mid]\n",
    "        #code here \n",
    "\n",
    "\n",
    "\n",
    "#{ \n",
    "#  Driver Code Starts\n",
    "#Initial Template for Python 3\n",
    "\n",
    "if __name__ == '__main__': \n",
    "    ob = Solution()\n",
    "    t = int (input ())\n",
    "    for _ in range (t):\n",
    "        r,c = map(int,input().strip().split())\n",
    "        matrix = [[0 for j in range(c)] for i in range(r)]\n",
    "        line1 = [int(x) for x in input().strip().split()]       \n",
    "        k = 0\n",
    "        for i in range(r):\n",
    "            for j in range (c):\n",
    "                matrix[i][j]=line1[k]\n",
    "                k+=1\n",
    "        ans = ob.median(matrix, r, c);\n",
    "        print(ans)\n",
    "# } Driver Code Ends"
   ]
  }
 ],
 "metadata": {
  "kernelspec": {
   "display_name": "Python 3",
   "language": "python",
   "name": "python3"
  },
  "language_info": {
   "codemirror_mode": {
    "name": "ipython",
    "version": 3
   },
   "file_extension": ".py",
   "mimetype": "text/x-python",
   "name": "python",
   "nbconvert_exporter": "python",
   "pygments_lexer": "ipython3",
   "version": "3.8.3"
  }
 },
 "nbformat": 4,
 "nbformat_minor": 4
}
